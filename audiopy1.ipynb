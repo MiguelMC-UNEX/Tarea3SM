{
 "cells": [
  {
   "cell_type": "markdown",
   "id": "d1b41c60-5347-44c5-9156-18b51c797e2e",
   "metadata": {
    "tags": []
   },
   "source": [
    "# Sesión 3 de SM: Introducción al análisis de audio con Python"
   ]
  },
  {
   "cell_type": "markdown",
   "id": "cd8a0331",
   "metadata": {},
   "source": [
    "---"
   ]
  },
  {
   "cell_type": "markdown",
   "id": "5eaeba1b-75d2-4cff-a5ad-b19741a75278",
   "metadata": {},
   "source": [
    "# Configuración del Repositorio de GitHub, Conda y JupyterLab\n",
    "\n",
    "## 0. Clonado del repositorio Github\n",
    "- Se clona y se accede al repositorio de la tarea.\n",
    "\n",
    "```bash\n",
    "git clone https://github.com/MiguelMC-UNEX/Tarea3SM.git\n",
    "```\n",
    "\n",
    "```bash\n",
    "cd Tarea3SM\n",
    "```\n",
    "\n",
    "## 1. Crear un entorno de Conda:\n",
    "\n",
    "- Se creó el entorno `tarea3Miguel`.\n",
    "```python\n",
    "conda create --name tarea3Miguel\n",
    "```  \n",
    "\n",
    "## 2. Añadir la carpeta .ipynb_checkpoints/ al .gitignore:\n",
    "\n",
    "- Se añade `.ipynb_checkpoints/` a `.gitignore`.\n",
    "\n",
    "## 3. Activar el entorno Conda creado:\n",
    "\n",
    "- En la terminal, se activa el entorno conda con:\n",
    "```python\n",
    "conda activate tarea3Miguel\n",
    "```\n",
    "\n",
    "\n",
    "## 4. Instalar Python 3.10, ipykernel y JupyterLab:\n",
    "\n",
    "- Con el entorno activado, se ejecuta\n",
    "\n",
    "```python\n",
    "conda install python=3.10 ipykernel jupyterlab\n",
    "```\n",
    "\n",
    "\n",
    "```python\n",
    "python3 -m ipykernel install --user --name=tarea3Miguel\n",
    "```\n",
    "\n",
    "\n",
    "## 5. Ejecutar JupyterLab y crear un notebook vacío:\n",
    "\n",
    "- En la terminal (con el entorno activado), se ejecuta:\n",
    "\n",
    "```bash\n",
    "jupyter-lab\n",
    "```\n",
    "\n"
   ]
  },
  {
   "cell_type": "markdown",
   "id": "6070a363-e94a-4ab6-af7d-dd7f4b34faae",
   "metadata": {},
   "source": [
    "***"
   ]
  },
  {
   "cell_type": "markdown",
   "id": "b69ce913-726f-462f-b0a8-28ebd00ebb32",
   "metadata": {
    "tags": []
   },
   "source": [
    "# Carga del audio (Desarrollo de la práctica)"
   ]
  },
  {
   "cell_type": "markdown",
   "id": "7ce9ea99-342b-41d1-a20e-dd1a38df5c53",
   "metadata": {},
   "source": [
    "<center><img src=\"img/mono_vs_stereo_diagram.jpg\" alt=\"missing\" width=500></center>"
   ]
  },
  {
   "cell_type": "markdown",
   "id": "1a0854a2-eee0-454b-aa3f-49537c756216",
   "metadata": {},
   "source": [
    "## Importar librerías y módulos de Python"
   ]
  },
  {
   "cell_type": "markdown",
   "id": "c62d0544-2df1-48d4-af1b-90f52f848870",
   "metadata": {},
   "source": [
    "<b>Nota</b>: Estas no son las únicas librerías de Python con las que se pueden trabajar para el procesamiento de archivos de audio (otro ejemplo podría ser <a href=\"https://librosa.org/doc/latest/index.html\">Librosa</a>). Si alguien está familiarizado con otras librerías puede utilizarlas.\n",
    "\n",
    "Importamos las librerías/módulos específicos de la siguiente forma, para pode trabajar con los ficheros de audio."
   ]
  },
  {
   "cell_type": "code",
   "execution_count": null,
   "id": "bfb99414-5ac1-4359-9e85-bac6a33d9ac8",
   "metadata": {},
   "outputs": [],
   "source": [
    "# Importacion.\n",
    "# import librosa\n",
    "from scipy.io import wavfile\n",
    "import IPython\n",
    "import os\n",
    "import numpy as np"
   ]
  },
  {
   "cell_type": "markdown",
   "id": "362e5601-4bd0-4600-adf3-ea7aa9bd4df7",
   "metadata": {},
   "source": [
    "## Especificar directorios de entrada y salida"
   ]
  },
  {
   "cell_type": "markdown",
   "id": "7d6d5954-df9f-4459-8be6-348034f66a24",
   "metadata": {},
   "source": [
    "- Aquí definimos los directorios donde guardaremos los audios con los que vamos a trabajar, así como dónde se van a guardar aquellos que generamos a lo largo de la práctica.\n",
    "- Lo haremos obteniendo el directorio actual y uniendo los path para obtener las ubicaciones de carga y salida de los ficheros de entrada y salida."
   ]
  },
  {
   "cell_type": "code",
   "execution_count": null,
   "id": "a2b7e67a-e4c2-4ff4-b06d-7ccee980abcf",
   "metadata": {},
   "outputs": [],
   "source": [
    "# Directorios que usaremos.\n",
    "cwd = os.getcwd()\n",
    "audio_input_path = os.path.join(cwd, os.path.join('audio', 'examples'))  # cambiar '_input' por 'examples'\n",
    "audio_output_path = os.path.join(cwd, os.path.join('audio', '_output'))\n",
    "print(f'Directorio con los audios de entrada: {audio_input_path}')\n",
    "print(f'Directorio donde guardaremos los audios generados: {audio_output_path}\\n')"
   ]
  },
  {
   "cell_type": "markdown",
   "id": "bfc5eb3d-e688-421c-8471-e1b3e21422c8",
   "metadata": {},
   "source": [
    "## Cargar el archivo de audio estéreo"
   ]
  },
  {
   "cell_type": "markdown",
   "id": "b742688e-a8d1-4dc9-ba01-20ca1a68fee3",
   "metadata": {},
   "source": [
    "### Diferencias\n",
    "Diferencias entre formatos de archivo para almacenar audio digital.\n",
    "\n",
    "<ul>\n",
    "    <li><b>.wav</b>: Archivo de audio sin comprimir (máxima calidad y gran tamaño de archivo). Típicamente utilizado en edición de audio debido a su fidelidad.</li>\n",
    "    <li><b>.mp3</b> (por ejemplo): Archivo de audio comprimido (con pérdidas pero menor tamaño). Ampliamente usado.</li>\n",
    "</ul>"
   ]
  },
  {
   "cell_type": "markdown",
   "id": "15ab6aa4-b115-4810-bf74-b2c3b7e17492",
   "metadata": {},
   "source": [
    "### Carga del fichero\n",
    "- Cargamos el archivo de audio the_last_of_us_reduced.wav en este caso."
   ]
  },
  {
   "cell_type": "code",
   "execution_count": null,
   "id": "3e1d48db-b430-41cd-b051-7af0c158fe5b",
   "metadata": {},
   "outputs": [],
   "source": [
    "# Cargamos el archivo de audio.\n",
    "filename = os.path.join(audio_input_path, 'the_last_of_us_reduced.wav')\n",
    "# audio_data, sample_rate = librosa.load(filename, sr=None, mono=False)\n",
    "sample_rate, audio_data = wavfile.read(filename)\n",
    "print(f'Frecuencia de muestreo (sample rate): {sample_rate/1000} kHz')\n",
    "\n",
    "audio_datag = audio_data"
   ]
  },
  {
   "cell_type": "markdown",
   "id": "ea236d4b-58df-4166-a216-b89d57837811",
   "metadata": {},
   "source": [
    "Vamos a escucharlo. Para que esto se haga correctamente, hay que indicarle la frecuencia de muestreo (veremos más adelante qué es)."
   ]
  },
  {
   "cell_type": "markdown",
   "id": "f174b8d3-07da-4dd2-9a54-adcf2d30c1fc",
   "metadata": {},
   "source": [
    "## Mostrar principales características de la onda del audio estéreo\n",
    "### Explicación\n",
    "Vamos a mostrar la información. Nota: es audio estereo (dos canales).\n",
    "\n",
    "- con el `ls sh` mostramos el tamaño en MB\n",
    "- Dividiendo la tasa de muestreo `sample_rate` entre 1000 obtenemos la frecuencia de muestreo.\n",
    "- Accediendo a distintas posiciones de `audio_data` accedemos a los canales del audio."
   ]
  },
  {
   "cell_type": "code",
   "execution_count": null,
   "id": "4c6ddf9c-9224-49a1-9884-2eca1644f377",
   "metadata": {},
   "outputs": [],
   "source": [
    "# Mostrar informacion (sonido estéreo).\n",
    "print('Datos de audio (estereo):')\n",
    "!ls -sh audio/examples/the_last_of_us_reduced.wav\n",
    "print(f'Frecuencia de muestreo (the_last_of_us_reduced.wav): {sample_rate/1000} kHz\\n')\n",
    "print(f'- 1º canal:   {audio_data[:5, 0]}...')\n",
    "print(f'- 2º canal:   {audio_data[:5, 1]}...')\n",
    "print(f'- Resolucion: {type(audio_data[0,0])}\\n')\n"
   ]
  },
  {
   "cell_type": "markdown",
   "id": "79b780e7-d604-4f95-8866-29fc4ec18ba0",
   "metadata": {},
   "source": [
    "## Incluisión del widget para reproducir el audio estéreo.\n",
    "### Explicación\n",
    "- Lo haremos con `IPython.display.Audio` para poder generar el `widget` y así poder escuchar el audio, incluyendo la opción `.T` para audio estéreo."
   ]
  },
  {
   "cell_type": "code",
   "execution_count": null,
   "id": "20d992b3-1603-464b-aab9-dab4eab91bfe",
   "metadata": {},
   "outputs": [],
   "source": [
    "IPython.display.Audio(audio_data.T, rate=sample_rate) # .T se pasa únicamente si es audio estéreo."
   ]
  },
  {
   "cell_type": "markdown",
   "id": "22329eff-3797-4dcf-8c69-b4698089eff4",
   "metadata": {},
   "source": [
    "## Conversión del audio estéreo a mono\n",
    "Por simplificación, para hacerlo vamos a calcular la media por canal para obtener un sonido mono. Para ello hacemos la media por columnas con `audio_data.mean(axis=1)` o que es lo mismo la `media por canal`."
   ]
  },
  {
   "cell_type": "code",
   "execution_count": null,
   "id": "2436e3d0-2e7a-48e7-90d9-cd78a117d236",
   "metadata": {},
   "outputs": [],
   "source": [
    "# Convertimos a mono mediante la media por canal (simplificacion).\n",
    "new_data_mono = audio_data.mean(axis=1)  # Column-wise.\n",
    "print('Nuevos datos de audio (mono):')\n",
    "print(f'- Nuevo tamaño: {new_data_mono.shape}')\n",
    "print(f'- Canal unico:  {new_data_mono[:5]}...')\n",
    "\n",
    "# Mantenemos la misma resolucion que antes.\n",
    "new_data_mono = new_data_mono.astype(np.int16)\n",
    "print(f'- Resolucion:   {type(new_data_mono[0])}\\n')"
   ]
  },
  {
   "cell_type": "markdown",
   "id": "2da0076d-bcb4-47d8-a15d-a3323726fc60",
   "metadata": {},
   "source": [
    "Vamos a guardarlo."
   ]
  },
  {
   "cell_type": "code",
   "execution_count": null,
   "id": "9e886f38-dfca-4b4a-9ac0-45a201f178c3",
   "metadata": {},
   "outputs": [],
   "source": [
    "# Guardamos el archivo mono a un fichero de tipo wav.\n",
    "wavfile.write(\n",
    "    filename=os.path.join(audio_output_path, 'sample1_mono.wav'),\n",
    "    rate=sample_rate,\n",
    "    data=new_data_mono\n",
    ")"
   ]
  },
  {
   "cell_type": "markdown",
   "id": "b26593d8-998f-452b-836d-11ed8425bcf9",
   "metadata": {},
   "source": [
    "## Incluisión del widget para reproducir el audio mono.\n",
    "### Explicación\n",
    "- Lo haremos con `IPython.display.Audio` para poder generar el `widget` y así poder escuchar el audio."
   ]
  },
  {
   "cell_type": "code",
   "execution_count": null,
   "id": "49fccd6d-ed00-4598-a249-b3a29210cb36",
   "metadata": {},
   "outputs": [],
   "source": [
    "IPython.display.Audio(new_data_mono, rate=sample_rate)"
   ]
  },
  {
   "cell_type": "markdown",
   "id": "380abd78-3a57-472d-bfcf-1aaa033d9bb4",
   "metadata": {},
   "source": [
    "# Explicación del código de las gráficas \n"
   ]
  },
  {
   "cell_type": "markdown",
   "id": "b56b2798-4c73-4fdc-9f04-01b35cfd0430",
   "metadata": {},
   "source": [
    "## Instalamos pillow y matplolib si no lo tenemos en nuestro entorno (como es el caso)"
   ]
  },
  {
   "cell_type": "code",
   "execution_count": null,
   "id": "05d65932-a009-4b31-bfe6-f2da5cf6aed4",
   "metadata": {},
   "outputs": [],
   "source": [
    "pip install pillow\n"
   ]
  },
  {
   "cell_type": "code",
   "execution_count": null,
   "id": "16a79c0e-2008-49cd-ac6c-2b961cd03821",
   "metadata": {},
   "outputs": [],
   "source": [
    "pip install matplotlib"
   ]
  },
  {
   "cell_type": "markdown",
   "id": "19cea0cb-0367-433b-9982-2781fedb66af",
   "metadata": {},
   "source": [
    "## Explicación del código y diferencia entre audio esteréo y mono.\n",
    "### Diferencia entre audio esteréo y mono\n",
    "- El `audio esteréo` tiene dos canales y es una onda sobre otra y tiene una doble fuente de sonido y más de un canal, mientras que el `audio mono` solo tiene un canal y es solo una onda.\n",
    "\n",
    "### Explicación del código\n",
    "\n",
    "- 1. Utilizamos `matplotlib`, para graficar el audio mono y estéreo, con un tamaño de gráfica de `10x4`.\n",
    "- 2. En cuanto al `audio estéreo`, al ser dos canales tenemos que ajustar las dimensiones en función del tiempo / la tasa de muestreo.\n",
    "- 3. Como se ha comentado el `audio estéreo` al tener dos canales, tendremos que graficar cada uno, como ya hemos definido una función tiempo, con ella sabiendo que el `Canal Izquierdo` está en la posición cero y `Canal Derecho` en la posición uno, podremos graficarlas y así obtendremos la gráfica del `audio estéreo`. "
   ]
  },
  {
   "cell_type": "code",
   "execution_count": null,
   "id": "da853f38-100e-4afd-9277-b526dc32e490",
   "metadata": {},
   "outputs": [],
   "source": [
    "import matplotlib.pyplot as plt\n",
    "import numpy as np\n",
    "\n",
    "\n",
    "# Para el audio mono\n",
    "plt.figure(figsize=(10, 4))\n",
    "plt.plot(np.arange(len(new_data_mono)) / sample_rate, new_data_mono)\n",
    "plt.title('Audio Mono en el Dominio del Tiempo')\n",
    "plt.xlabel('Tiempo (s)')\n",
    "plt.ylabel('Amplitud')\n",
    "plt.grid(True)\n",
    "plt.show()\n",
    "\n",
    "# Para el audio estéreo\n",
    "if len(audio_data.shape) == 2 and audio_data.shape[1] == 2:  # Verifica si los datos son estéreo\n",
    "    plt.figure(figsize=(10, 4))\n",
    "    tiempo = np.arange(audio_data.shape[0]) / sample_rate  # Ajusta la dimensión de tiempo\n",
    "    plt.plot(tiempo, audio_data[:, 0], label='Canal Izquierdo')\n",
    "    plt.plot(tiempo, audio_data[:, 1], label='Canal Derecho')\n",
    "    plt.title('Audio Estéreo en el Dominio del Tiempo')\n",
    "    plt.xlabel('Tiempo (s)')\n",
    "    plt.ylabel('Amplitud')\n",
    "    plt.legend()\n",
    "    plt.grid(True)\n",
    "    plt.show()\n",
    "else:\n",
    "    print(\"Los datos no son estéreo o no tienen dos canales.\")\n",
    "\n"
   ]
  },
  {
   "cell_type": "code",
   "execution_count": null,
   "id": "470ae233-f96a-4adf-aa95-0a003c6ee29c",
   "metadata": {},
   "outputs": [],
   "source": []
  },
  {
   "cell_type": "code",
   "execution_count": null,
   "id": "1be9b4fa-06db-40e4-bafd-8a9413e2c3f5",
   "metadata": {},
   "outputs": [],
   "source": []
  }
 ],
 "metadata": {
  "kernelspec": {
   "display_name": "tarea3Miguel",
   "language": "python",
   "name": "tarea3miguel"
  },
  "language_info": {
   "codemirror_mode": {
    "name": "ipython",
    "version": 3
   },
   "file_extension": ".py",
   "mimetype": "text/x-python",
   "name": "python",
   "nbconvert_exporter": "python",
   "pygments_lexer": "ipython3",
   "version": "3.10.13"
  },
  "toc-autonumbering": true
 },
 "nbformat": 4,
 "nbformat_minor": 5
}
